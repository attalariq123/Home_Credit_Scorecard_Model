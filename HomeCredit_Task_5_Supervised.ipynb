{
  "nbformat": 4,
  "nbformat_minor": 0,
  "metadata": {
    "colab": {
      "name": "HomeCredit_Task 5_Supervised",
      "provenance": [],
      "collapsed_sections": [
        "AVdWjUQX4Tnq"
      ]
    },
    "kernelspec": {
      "name": "python3",
      "display_name": "Python 3"
    },
    "language_info": {
      "name": "python"
    }
  },
  "cells": [
    {
      "cell_type": "markdown",
      "metadata": {
        "id": "BlxT8GvIC_B5"
      },
      "source": [
        "# Supervised Learning Technique "
      ]
    },
    {
      "cell_type": "markdown",
      "metadata": {
        "_uuid": "013aadf35263381f72adc6ac9453a6ddab95b14e",
        "id": "FkmsKFLPV8V4"
      },
      "source": [
        "### Load the data"
      ]
    },
    {
      "cell_type": "code",
      "execution_count": null,
      "metadata": {
        "_uuid": "778d7eb0679cac970a01cbaa64033c78d20d19cc",
        "id": "ctqL8DkjV8V8"
      },
      "outputs": [],
      "source": [
        "import pandas as pd \n",
        "import numpy as np\n",
        "import matplotlib\n",
        "import matplotlib.pyplot as plt\n",
        "import seaborn as sns\n",
        "%matplotlib inline \n",
        "\n",
        "import sys\n",
        "import warnings\n",
        "warnings.filterwarnings(\"ignore\")\n",
        "\n",
        "# to visualise al the columns in the dataframe\n",
        "pd.pandas.set_option('display.max_columns', None)"
      ]
    },
    {
      "cell_type": "code",
      "source": [
        "!gdown 1rx_xQsCAxqrIxFlXWFnlZLCLEt_8GHMC"
      ],
      "metadata": {
        "colab": {
          "base_uri": "https://localhost:8080/"
        },
        "id": "3Qqe_jMiGoVF",
        "outputId": "acac1ba7-5af9-4689-e293-8f52ef0fbd3b"
      },
      "execution_count": null,
      "outputs": [
        {
          "output_type": "stream",
          "name": "stdout",
          "text": [
            "Downloading...\n",
            "From: https://drive.google.com/uc?id=1rx_xQsCAxqrIxFlXWFnlZLCLEt_8GHMC\n",
            "To: /content/cleandata.csv\n",
            "100% 207M/207M [00:01<00:00, 160MB/s]\n"
          ]
        }
      ]
    },
    {
      "cell_type": "code",
      "execution_count": null,
      "metadata": {
        "_uuid": "48399e01e3d0bc79a6286c395a5bf5365eaa4d2e",
        "id": "WH1oN-wVV8WV"
      },
      "outputs": [],
      "source": [
        "application_train = pd.read_csv('cleandata.csv')"
      ]
    },
    {
      "cell_type": "markdown",
      "metadata": {
        "id": "475dHARvV8cf"
      },
      "source": [
        "## Modeling"
      ]
    },
    {
      "cell_type": "markdown",
      "metadata": {
        "id": "FOc82gymGXOE"
      },
      "source": [
        "### Partitioning"
      ]
    },
    {
      "cell_type": "code",
      "execution_count": null,
      "metadata": {
        "colab": {
          "base_uri": "https://localhost:8080/"
        },
        "id": "k-0NefryV8cg",
        "outputId": "29605026-4d94-4c57-bd16-cedcb5886e76"
      },
      "outputs": [
        {
          "output_type": "stream",
          "name": "stdout",
          "text": [
            "outlier_fraction for the whole dataset:\n",
            "0.08781828601345662\n",
            "Fraud Cases : 24825\n",
            "Valid Cases : 282686\n"
          ]
        }
      ],
      "source": [
        "#Determine the number of fraud and valid transactions in the dataset\n",
        "\n",
        "Fraud = application_train[application_train['TARGET']==1]\n",
        "\n",
        "Valid = application_train[application_train['TARGET']==0]\n",
        "\n",
        "outlier_fraction = len(Fraud)/float(len(Valid))\n",
        "\n",
        "print('outlier_fraction for the whole dataset:')\n",
        "print(outlier_fraction)\n",
        "\n",
        "print(\"Fraud Cases : {}\".format(len(Fraud)))\n",
        "\n",
        "print(\"Valid Cases : {}\".format(len(Valid)))"
      ]
    },
    {
      "cell_type": "code",
      "execution_count": null,
      "metadata": {
        "colab": {
          "base_uri": "https://localhost:8080/"
        },
        "id": "CHStSM9tV8ci",
        "outputId": "546d2635-036c-42e1-b8dc-567b524501ff"
      },
      "outputs": [
        {
          "output_type": "stream",
          "name": "stdout",
          "text": [
            "(246008, 210) (246008,)\n",
            "(61503, 210) (61503,)\n"
          ]
        }
      ],
      "source": [
        "from sklearn.model_selection import train_test_split\n",
        "\n",
        "#Create independent and Dependent Features\n",
        "columns = application_train.columns.tolist()\n",
        "# Filter the columns to remove data we do not want \n",
        "columns = [c for c in columns if c not in [\"TARGET\"]]\n",
        "# Store the variable we are predicting \n",
        "target = \"TARGET\"\n",
        "# Define a random state \n",
        "state = np.random.RandomState(42)\n",
        "X = application_train[columns]\n",
        "y = application_train[target]\n",
        "X_train, X_test, y_train, y_test = train_test_split(X, y, test_size=0.2)\n",
        "print(X_train.shape, y_train.shape)\n",
        "print(X_test.shape, y_test.shape)"
      ]
    },
    {
      "cell_type": "markdown",
      "metadata": {
        "id": "AVdWjUQX4Tnq"
      },
      "source": [
        "### More Feature Selection\n",
        "\n",
        "using RandomForestClassifier"
      ]
    },
    {
      "cell_type": "code",
      "execution_count": null,
      "metadata": {
        "id": "vJI33XMn4ajM"
      },
      "outputs": [],
      "source": [
        "from sklearn.ensemble import RandomForestClassifier\n",
        "from sklearn.feature_selection import SelectFromModel"
      ]
    },
    {
      "cell_type": "code",
      "execution_count": null,
      "metadata": {
        "colab": {
          "base_uri": "https://localhost:8080/"
        },
        "id": "zmEFeqeg45pC",
        "outputId": "67c30152-542e-405d-fcb9-d0c055a0924e"
      },
      "outputs": [
        {
          "output_type": "execute_result",
          "data": {
            "text/plain": [
              "SelectFromModel(estimator=RandomForestClassifier(random_state=RandomState(MT19937) at 0x7FA07476E490))"
            ]
          },
          "metadata": {},
          "execution_count": 9
        }
      ],
      "source": [
        "sel = SelectFromModel(RandomForestClassifier(n_estimators = 100, random_state=state))\n",
        "sel.fit(X_train, y_train)"
      ]
    },
    {
      "cell_type": "code",
      "execution_count": null,
      "metadata": {
        "colab": {
          "base_uri": "https://localhost:8080/"
        },
        "id": "AHUzK0YK4-nz",
        "outputId": "df61036c-b9af-4358-ae21-3c8dab9dc19b"
      },
      "outputs": [
        {
          "output_type": "execute_result",
          "data": {
            "text/plain": [
              "array([False, False,  True,  True,  True,  True,  True,  True,  True,\n",
              "        True,  True,  True,  True, False, False, False, False,  True,\n",
              "        True, False, False, False, False, False,  True,  True,  True,\n",
              "        True,  True,  True,  True,  True, False,  True,  True,  True,\n",
              "        True,  True,  True, False,  True,  True, False,  True,  True,\n",
              "        True, False,  True, False, False, False, False, False, False,\n",
              "       False, False, False, False, False, False, False, False, False,\n",
              "       False, False, False, False, False, False, False, False,  True,\n",
              "        True,  True, False, False, False, False, False, False, False,\n",
              "       False, False, False, False, False, False, False, False, False,\n",
              "       False, False, False, False, False, False, False, False,  True,\n",
              "       False, False, False, False, False, False, False, False, False,\n",
              "       False, False, False, False, False, False, False, False, False,\n",
              "       False, False, False, False, False, False, False, False, False,\n",
              "       False, False, False, False, False, False, False, False, False,\n",
              "       False, False, False, False, False, False, False, False, False,\n",
              "       False, False, False, False, False, False, False, False, False,\n",
              "       False, False, False, False, False, False, False, False, False,\n",
              "       False, False, False, False, False, False, False, False, False,\n",
              "       False, False, False, False, False, False, False, False, False,\n",
              "       False, False, False, False, False, False, False, False, False,\n",
              "       False, False, False, False, False, False, False, False, False,\n",
              "       False, False, False, False, False, False, False, False,  True,\n",
              "        True,  True,  True])"
            ]
          },
          "metadata": {},
          "execution_count": 10
        }
      ],
      "source": [
        "sel.get_support()"
      ]
    },
    {
      "cell_type": "code",
      "execution_count": null,
      "metadata": {
        "colab": {
          "base_uri": "https://localhost:8080/"
        },
        "id": "j9SLwQ8c5AaZ",
        "outputId": "a1ff49ca-a94e-4c56-f264-996a523bcaf0"
      },
      "outputs": [
        {
          "output_type": "execute_result",
          "data": {
            "text/plain": [
              "41"
            ]
          },
          "metadata": {},
          "execution_count": 11
        }
      ],
      "source": [
        "selected_feat= X_train.columns[(sel.get_support())].tolist()\n",
        "len(selected_feat)"
      ]
    },
    {
      "cell_type": "code",
      "execution_count": null,
      "metadata": {
        "colab": {
          "base_uri": "https://localhost:8080/"
        },
        "id": "z9tukYgm5Ch2",
        "outputId": "5c52b758-61c6-420b-d652-cdbcab3f3920"
      },
      "outputs": [
        {
          "output_type": "stream",
          "name": "stdout",
          "text": [
            "['FLAG_OWN_REALTY', 'CNT_CHILDREN', 'AMT_INCOME_TOTAL', 'AMT_CREDIT', 'AMT_ANNUITY', 'AMT_GOODS_PRICE', 'DAYS_BIRTH', 'DAYS_EMPLOYED', 'DAYS_REGISTRATION', 'DAYS_ID_PUBLISH', 'OWN_CAR_AGE', 'CNT_FAM_MEMBERS', 'REGION_RATING_CLIENT', 'EXT_SOURCE_1', 'EXT_SOURCE_2', 'EXT_SOURCE_3', 'APARTMENTS_AVG', 'BASEMENTAREA_AVG', 'YEARS_BEGINEXPLUATATION_AVG', 'YEARS_BUILD_AVG', 'COMMONAREA_AVG', 'ENTRANCES_AVG', 'FLOORSMAX_AVG', 'FLOORSMIN_AVG', 'LANDAREA_AVG', 'LIVINGAPARTMENTS_AVG', 'LIVINGAREA_AVG', 'NONLIVINGAREA_AVG', 'TOTALAREA_MODE', 'OBS_30_CNT_SOCIAL_CIRCLE', 'DEF_30_CNT_SOCIAL_CIRCLE', 'OBS_60_CNT_SOCIAL_CIRCLE', 'DAYS_LAST_PHONE_CHANGE', 'AMT_REQ_CREDIT_BUREAU_MON', 'AMT_REQ_CREDIT_BUREAU_QRT', 'AMT_REQ_CREDIT_BUREAU_YEAR', 'NAME_FAMILY_STATUS_Married', 'CREDIT_INCOME_PERCENT', 'ANNUITY_INCOME_PERCENT', 'CREDIT_TERM', 'DAYS_EMPLOYED_PERCENT']\n"
          ]
        }
      ],
      "source": [
        "print(selected_feat)"
      ]
    },
    {
      "cell_type": "code",
      "execution_count": null,
      "metadata": {
        "id": "6y2s0zxcmNVW"
      },
      "outputs": [],
      "source": [
        "app_X_train = X_train.copy() #Taking a copy before dropping \n",
        "app_X_test = X_test.copy()"
      ]
    },
    {
      "cell_type": "code",
      "execution_count": null,
      "metadata": {
        "id": "XRO64vlLmWx2"
      },
      "outputs": [],
      "source": [
        "X_train = X_train[selected_feat]\n",
        "X_test = X_test[selected_feat]"
      ]
    },
    {
      "cell_type": "code",
      "execution_count": null,
      "metadata": {
        "colab": {
          "base_uri": "https://localhost:8080/"
        },
        "id": "c6Bo85pgnTDG",
        "outputId": "ea8b5905-812e-40a5-b970-42c6caa6720e"
      },
      "outputs": [
        {
          "output_type": "stream",
          "name": "stdout",
          "text": [
            "(246008, 41) (61503, 41)\n"
          ]
        }
      ],
      "source": [
        "print (X_train.shape, X_test.shape)"
      ]
    },
    {
      "cell_type": "markdown",
      "metadata": {
        "id": "Nx4p9AR8lVdW"
      },
      "source": [
        "------------------------------"
      ]
    },
    {
      "cell_type": "markdown",
      "metadata": {
        "id": "jozAagpFpwSg"
      },
      "source": [
        "## Logistic Regression"
      ]
    },
    {
      "cell_type": "code",
      "execution_count": null,
      "metadata": {
        "id": "8DUGfcmwnw0k"
      },
      "outputs": [],
      "source": [
        "\n",
        "from sklearn.linear_model import LogisticRegression\n",
        "\n",
        "logistic_regressor = LogisticRegression(C = 2)"
      ]
    },
    {
      "cell_type": "code",
      "execution_count": null,
      "metadata": {
        "colab": {
          "base_uri": "https://localhost:8080/"
        },
        "id": "8bPF_U_wnywA",
        "outputId": "437eeaac-d251-476c-93a4-2ac744bd716e"
      },
      "outputs": [
        {
          "output_type": "execute_result",
          "data": {
            "text/plain": [
              "LogisticRegression(C=2)"
            ]
          },
          "metadata": {},
          "execution_count": 17
        }
      ],
      "source": [
        "logistic_regressor.fit(X_train,y_train)\n"
      ]
    },
    {
      "cell_type": "code",
      "execution_count": null,
      "metadata": {
        "id": "7aw89xeQn936"
      },
      "outputs": [],
      "source": [
        "y_pred = logistic_regressor.predict(X_test)"
      ]
    },
    {
      "cell_type": "code",
      "execution_count": null,
      "metadata": {
        "colab": {
          "base_uri": "https://localhost:8080/"
        },
        "id": "umTLK0bgowfl",
        "outputId": "427fa7c2-dde5-4070-e66e-874df44bb7f2"
      },
      "outputs": [
        {
          "output_type": "stream",
          "name": "stdout",
          "text": [
            "Logistic Regression errors: 4953\n",
            "Accuracy Score :\n",
            "0.9194673430564363\n",
            "Confusion matrix :\n",
            "[[56550     0]\n",
            " [ 4953     0]]\n",
            "Classification Report :\n",
            "              precision    recall  f1-score   support\n",
            "\n",
            "           0       0.92      1.00      0.96     56550\n",
            "           1       0.00      0.00      0.00      4953\n",
            "\n",
            "    accuracy                           0.92     61503\n",
            "   macro avg       0.46      0.50      0.48     61503\n",
            "weighted avg       0.85      0.92      0.88     61503\n",
            "\n",
            "ROC AUC score is:  0.5\n"
          ]
        }
      ],
      "source": [
        "from sklearn.metrics import classification_report,accuracy_score, f1_score, roc_auc_score\n",
        "from sklearn.metrics import confusion_matrix\n",
        "\n",
        "n_errors = (y_pred != y_test).sum()\n",
        "# Run Classification Metrics\n",
        "print(\"{}: {}\".format(\"Logistic Regression errors\",n_errors))\n",
        "print(\"Accuracy Score :\")\n",
        "print(accuracy_score(y_test,y_pred))\n",
        "print(\"Confusion matrix :\")\n",
        "print(confusion_matrix(y_test, y_pred))\n",
        "print(\"Classification Report :\")\n",
        "print(classification_report(y_test,y_pred))\n",
        "print(\"ROC AUC score is: \",roc_auc_score(y_test,y_pred))"
      ]
    },
    {
      "cell_type": "markdown",
      "metadata": {
        "id": "9Ax1eagipjuQ"
      },
      "source": [
        "## Extreme Gradient Boost Model"
      ]
    },
    {
      "cell_type": "code",
      "execution_count": null,
      "metadata": {
        "id": "BIU9LxK-rxXW"
      },
      "outputs": [],
      "source": [
        "from xgboost import XGBClassifier"
      ]
    },
    {
      "cell_type": "code",
      "execution_count": null,
      "metadata": {
        "id": "OsQY4m_3r8g5"
      },
      "outputs": [],
      "source": [
        "xgb_classifier = XGBClassifier(n_estimators=100,max_depth=5)"
      ]
    },
    {
      "cell_type": "code",
      "execution_count": null,
      "metadata": {
        "colab": {
          "base_uri": "https://localhost:8080/"
        },
        "id": "KuJ-OMsTsHhE",
        "outputId": "90b65ab8-8d39-4b13-d7c1-5f6905d5f8c6"
      },
      "outputs": [
        {
          "output_type": "execute_result",
          "data": {
            "text/plain": [
              "XGBClassifier(max_depth=5)"
            ]
          },
          "metadata": {},
          "execution_count": 31
        }
      ],
      "source": [
        "xgb_classifier.fit(X_train,y_train)"
      ]
    },
    {
      "cell_type": "code",
      "execution_count": null,
      "metadata": {
        "id": "x-CANuQysOWC"
      },
      "outputs": [],
      "source": [
        "y_pred = xgb_classifier.predict(X_test)"
      ]
    },
    {
      "cell_type": "code",
      "execution_count": null,
      "metadata": {
        "colab": {
          "base_uri": "https://localhost:8080/"
        },
        "id": "jXRsRZ4BsZbf",
        "outputId": "b82536e1-a15d-41d1-ed21-94f494fbc2dd"
      },
      "outputs": [
        {
          "output_type": "stream",
          "name": "stdout",
          "text": [
            "Extreme Gradient Boost errors: 4940\n",
            "Accuracy Score :\n",
            "0.9196787148594378\n",
            "Confusion matrix :\n",
            "[[56494    56]\n",
            " [ 4884    69]]\n",
            "Classification Report :\n",
            "              precision    recall  f1-score   support\n",
            "\n",
            "           0       0.92      1.00      0.96     56550\n",
            "           1       0.55      0.01      0.03      4953\n",
            "\n",
            "    accuracy                           0.92     61503\n",
            "   macro avg       0.74      0.51      0.49     61503\n",
            "weighted avg       0.89      0.92      0.88     61503\n",
            "\n",
            "ROC AUC score is:  0.5064703384225513\n"
          ]
        }
      ],
      "source": [
        "n_errors = (y_pred != y_test).sum()\n",
        "# Run Classification Metrics\n",
        "print(\"{}: {}\".format(\"Extreme Gradient Boost errors\",n_errors))\n",
        "print(\"Accuracy Score :\")\n",
        "print(accuracy_score(y_test,y_pred))\n",
        "print(\"Confusion matrix :\")\n",
        "print(confusion_matrix(y_test, y_pred))\n",
        "print(\"Classification Report :\")\n",
        "print(classification_report(y_test,y_pred))\n",
        "print(\"ROC AUC score is: \",roc_auc_score(y_test,y_pred))"
      ]
    },
    {
      "cell_type": "code",
      "source": [
        "y_pred"
      ],
      "metadata": {
        "colab": {
          "base_uri": "https://localhost:8080/"
        },
        "id": "aXGVMtKAK5hr",
        "outputId": "834895d7-34ab-44e7-a2b7-4ebadb8cf4c7"
      },
      "execution_count": null,
      "outputs": [
        {
          "output_type": "execute_result",
          "data": {
            "text/plain": [
              "array([0, 0, 0, ..., 0, 0, 0])"
            ]
          },
          "metadata": {},
          "execution_count": 36
        }
      ]
    },
    {
      "cell_type": "code",
      "source": [
        ""
      ],
      "metadata": {
        "colab": {
          "base_uri": "https://localhost:8080/"
        },
        "id": "1T1N-Zo_K6ON",
        "outputId": "ad5d9e80-6975-4815-b105-0f0bc1fb1ecc"
      },
      "execution_count": null,
      "outputs": [
        {
          "output_type": "execute_result",
          "data": {
            "text/plain": [
              "53369     1\n",
              "75490     0\n",
              "36727     0\n",
              "213556    0\n",
              "74599     0\n",
              "Name: TARGET, dtype: int64"
            ]
          },
          "metadata": {},
          "execution_count": 38
        }
      ]
    },
    {
      "cell_type": "code",
      "source": [
        ""
      ],
      "metadata": {
        "id": "9KXSDZBdK-Vy"
      },
      "execution_count": null,
      "outputs": []
    }
  ]
}